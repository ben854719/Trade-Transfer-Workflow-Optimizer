{
  "nbformat": 4,
  "nbformat_minor": 0,
  "metadata": {
    "colab": {
      "provenance": [],
      "gpuType": "T4",
      "cell_execution_strategy": "setup",
      "authorship_tag": "ABX9TyOGa7aJc15c43tsHUIOsa4a",
      "include_colab_link": true
    },
    "kernelspec": {
      "name": "python3",
      "display_name": "Python 3"
    },
    "language_info": {
      "name": "python"
    },
    "accelerator": "GPU"
  },
  "cells": [
    {
      "cell_type": "markdown",
      "metadata": {
        "id": "view-in-github",
        "colab_type": "text"
      },
      "source": [
        "<a href=\"https://colab.research.google.com/github/ben854719/Trade-Transfer-Workflow-Optimizer/blob/main/ML_Stock_Portfolio.ipynb\" target=\"_parent\"><img src=\"https://colab.research.google.com/assets/colab-badge.svg\" alt=\"Open In Colab\"/></a>"
      ]
    },
    {
      "cell_type": "code",
      "execution_count": 41,
      "metadata": {
        "colab": {
          "base_uri": "https://localhost:8080/",
          "height": 377
        },
        "collapsed": true,
        "id": "qeHCsMGY2xBA",
        "outputId": "4cecf04b-97d2-485c-f99c-ba8226fb07e9"
      },
      "outputs": [
        {
          "output_type": "display_data",
          "data": {
            "text/plain": [
              "'Epoch[10/200], MSE.loss:0.8650'"
            ],
            "application/vnd.google.colaboratory.intrinsic+json": {
              "type": "string"
            }
          },
          "metadata": {}
        },
        {
          "output_type": "display_data",
          "data": {
            "text/plain": [
              "'Epoch[20/200], MSE.loss:0.6000'"
            ],
            "application/vnd.google.colaboratory.intrinsic+json": {
              "type": "string"
            }
          },
          "metadata": {}
        },
        {
          "output_type": "display_data",
          "data": {
            "text/plain": [
              "'Epoch[30/200], MSE.loss:0.4033'"
            ],
            "application/vnd.google.colaboratory.intrinsic+json": {
              "type": "string"
            }
          },
          "metadata": {}
        },
        {
          "output_type": "display_data",
          "data": {
            "text/plain": [
              "'Epoch[40/200], MSE.loss:0.2665'"
            ],
            "application/vnd.google.colaboratory.intrinsic+json": {
              "type": "string"
            }
          },
          "metadata": {}
        },
        {
          "output_type": "display_data",
          "data": {
            "text/plain": [
              "'Epoch[50/200], MSE.loss:0.0857'"
            ],
            "application/vnd.google.colaboratory.intrinsic+json": {
              "type": "string"
            }
          },
          "metadata": {}
        },
        {
          "output_type": "display_data",
          "data": {
            "text/plain": [
              "'Epoch[60/200], MSE.loss:0.1609'"
            ],
            "application/vnd.google.colaboratory.intrinsic+json": {
              "type": "string"
            }
          },
          "metadata": {}
        },
        {
          "output_type": "display_data",
          "data": {
            "text/plain": [
              "'Epoch[70/200], MSE.loss:0.0742'"
            ],
            "application/vnd.google.colaboratory.intrinsic+json": {
              "type": "string"
            }
          },
          "metadata": {}
        },
        {
          "output_type": "display_data",
          "data": {
            "text/plain": [
              "'Epoch[80/200], MSE.loss:0.0734'"
            ],
            "application/vnd.google.colaboratory.intrinsic+json": {
              "type": "string"
            }
          },
          "metadata": {}
        },
        {
          "output_type": "display_data",
          "data": {
            "text/plain": [
              "'Epoch[90/200], MSE.loss:0.0809'"
            ],
            "application/vnd.google.colaboratory.intrinsic+json": {
              "type": "string"
            }
          },
          "metadata": {}
        },
        {
          "output_type": "display_data",
          "data": {
            "text/plain": [
              "'Epoch[100/200], MSE.loss:0.0849'"
            ],
            "application/vnd.google.colaboratory.intrinsic+json": {
              "type": "string"
            }
          },
          "metadata": {}
        },
        {
          "output_type": "display_data",
          "data": {
            "text/plain": [
              "'Epoch[110/200], MSE.loss:0.0659'"
            ],
            "application/vnd.google.colaboratory.intrinsic+json": {
              "type": "string"
            }
          },
          "metadata": {}
        },
        {
          "output_type": "display_data",
          "data": {
            "text/plain": [
              "'Epoch[120/200], MSE.loss:0.0853'"
            ],
            "application/vnd.google.colaboratory.intrinsic+json": {
              "type": "string"
            }
          },
          "metadata": {}
        },
        {
          "output_type": "display_data",
          "data": {
            "text/plain": [
              "'Epoch[130/200], MSE.loss:0.0619'"
            ],
            "application/vnd.google.colaboratory.intrinsic+json": {
              "type": "string"
            }
          },
          "metadata": {}
        },
        {
          "output_type": "display_data",
          "data": {
            "text/plain": [
              "'Epoch[140/200], MSE.loss:0.0641'"
            ],
            "application/vnd.google.colaboratory.intrinsic+json": {
              "type": "string"
            }
          },
          "metadata": {}
        },
        {
          "output_type": "display_data",
          "data": {
            "text/plain": [
              "'Epoch[150/200], MSE.loss:0.0449'"
            ],
            "application/vnd.google.colaboratory.intrinsic+json": {
              "type": "string"
            }
          },
          "metadata": {}
        },
        {
          "output_type": "display_data",
          "data": {
            "text/plain": [
              "'Epoch[160/200], MSE.loss:0.0742'"
            ],
            "application/vnd.google.colaboratory.intrinsic+json": {
              "type": "string"
            }
          },
          "metadata": {}
        },
        {
          "output_type": "display_data",
          "data": {
            "text/plain": [
              "'Epoch[170/200], MSE.loss:0.0583'"
            ],
            "application/vnd.google.colaboratory.intrinsic+json": {
              "type": "string"
            }
          },
          "metadata": {}
        },
        {
          "output_type": "display_data",
          "data": {
            "text/plain": [
              "'Epoch[180/200], MSE.loss:0.0479'"
            ],
            "application/vnd.google.colaboratory.intrinsic+json": {
              "type": "string"
            }
          },
          "metadata": {}
        },
        {
          "output_type": "display_data",
          "data": {
            "text/plain": [
              "'Epoch[190/200], MSE.loss:0.0253'"
            ],
            "application/vnd.google.colaboratory.intrinsic+json": {
              "type": "string"
            }
          },
          "metadata": {}
        },
        {
          "output_type": "display_data",
          "data": {
            "text/plain": [
              "'Epoch[200/200], MSE.loss:0.0320'"
            ],
            "application/vnd.google.colaboratory.intrinsic+json": {
              "type": "string"
            }
          },
          "metadata": {}
        }
      ],
      "source": [
        "from IPython import get_ipython\n",
        "from IPython import display\n",
        "import numpy as np\n",
        "import pandas as pd\n",
        "import matplotlib.pyplot as plt\n",
        "import seaborn as sns\n",
        "from sklearn.model_selection import train_test_split\n",
        "from sklearn.preprocessing import StandardScaler\n",
        "from sklearn.preprocessing import LabelEncoder\n",
        "import torch\n",
        "import torch.nn as nn\n",
        "import torch.optim as optim\n",
        "\n",
        "# Import the dataset for the client stock portfolio.\n",
        "INDEX_CA_XTSE_GSPTSE_df = pd.read_csv('INDEX_CA_XTSE_GSPTSE.csv')\n",
        "\n",
        "# Create a Scaler Object.\n",
        "scaler =  StandardScaler()\n",
        "\n",
        "# Numpy array for the dataset.\n",
        "numerical_features = ['Date', 'Open', 'High', 'Low', 'Close']\n",
        "\n",
        "for feature in numerical_features:\n",
        "  if INDEX_CA_XTSE_GSPTSE_df[feature].dtype == 'object':\n",
        "    le = LabelEncoder()\n",
        "    INDEX_CA_XTSE_GSPTSE_df[feature] = le.fit_transform(INDEX_CA_XTSE_GSPTSE_df[feature])\n",
        "\n",
        "# fit the scaler to the numerical features.\n",
        "scaler.fit(INDEX_CA_XTSE_GSPTSE_df[numerical_features])\n",
        "INDEX_CA_XTSE_GSPTSE_df[numerical_features] = scaler.transform(INDEX_CA_XTSE_GSPTSE_df[numerical_features])\n",
        "\n",
        "# Create the tensor of input features and target variable.\n",
        "X = torch.tensor(INDEX_CA_XTSE_GSPTSE_df[numerical_features].values, dtype=torch.float32)\n",
        "Y = torch.tensor(INDEX_CA_XTSE_GSPTSE_df['Close'].values, dtype=torch.float32)\n",
        "\n",
        "# train the model of the dataset.\n",
        "x_train, x_test, y_train, y_test = train_test_split(X, Y, test_size=0.2, random_state=42)\n",
        "\n",
        "# set a random seed.\n",
        "torch.manual_seed(42)\n",
        "\n",
        "# Scale target variable\n",
        "scaler_y = StandardScaler()\n",
        "y_train_scaled = scaler_y.fit_transform(y_train.reshape(-1, 1))\n",
        "y_test_scaled = scaler_y.transform(y_test.reshape(-1, 1))\n",
        "\n",
        "\n",
        "# Convert y_train and y_test back to PyTorch tensors and reshape\n",
        "y_train = torch.tensor(y_train_scaled, dtype=torch.float32)\n",
        "y_test = torch.tensor(y_test_scaled, dtype=torch.float32)\n",
        "\n",
        "\n",
        "# Check for NaN/Inf in input and target\n",
        "x_train[torch.isnan(x_train)] = 0\n",
        "x_train[torch.isinf(x_train)] = 0\n",
        "y_train[torch.isnan(y_train)] = 0\n",
        "y_train[torch.isinf(y_train)] = 0\n",
        "x_test[torch.isnan(x_test)] = 0\n",
        "x_test[torch.isinf(x_test)] = 0\n",
        "y_test[torch.isnan(y_test)] = 0\n",
        "y_test[torch.isinf(y_test)] = 0\n",
        "\n",
        "# Define the model using nn.Sequential.\n",
        "model = nn.Sequential(\n",
        "    nn.Linear(X.shape[1], 32), # Use the number of input features from X\n",
        "    nn.ReLU(),\n",
        "    nn.Dropout(0.2),\n",
        "    nn.Linear(32, 16),\n",
        "    nn.ReLU(),\n",
        "    nn.Linear(16, 1) # Output layer should have 1 output for regression\n",
        ")\n",
        "\n",
        "# MSE Loss Function + optimizer.\n",
        "loss_fn = nn.MSELoss()\n",
        "optimizer = optim.Adam(model.parameters(), lr=0.001)\n",
        "\n",
        "num_epochs = 200\n",
        "\n",
        "epoch_format = 'Epoch[{0}/{1}], MSE.loss:{2:.4f}'\n",
        "\n",
        "for epoch in range(num_epochs):\n",
        "    predictions = model(x_train)\n",
        "    MSE = loss_fn(predictions, y_train)\n",
        "\n",
        "    # Check if loss is NaN and break.\n",
        "    if torch.isnan(MSE):\n",
        "        print(f\"Loss is NaN at epoch {epoch + 1}. Stopping training.\")\n",
        "        break\n",
        "\n",
        "    MSE.backward()\n",
        "\n",
        "    # Check for NaN/Inf in model parameters and break.\n",
        "    for name, param in model.named_parameters():\n",
        "        if param.grad is not None and (torch.isnan(param.grad).any() or torch.isinf(param.grad).any()):\n",
        "            display.display(f\"NaN or Inf detected in gradients for parameter '{name}' at epoch {epoch + 1}.\")\n",
        "            break\n",
        "\n",
        "    # Replace NaN/Inf in gradients with 0\n",
        "    for name, param in model.named_parameters():\n",
        "        if param.grad is not None and (torch.isnan(param.grad).any() or torch.isinf(param.grad).any()):\n",
        "            param.grad.data.fill_(0)\n",
        "\n",
        "    # Gradient Clipping.\n",
        "    torch.nn.utils.clip_grad_norm_(model.parameters(), max_norm=1)\n",
        "\n",
        "    optimizer.step()\n",
        "    optimizer.zero_grad()\n",
        "\n",
        "    if (epoch+1) % 10 == 0:\n",
        "        display.display(epoch_format.format(epoch + 1, num_epochs, MSE.item()))\n",
        "\n",
        "    # Initialize weights after optimizer.step()\n",
        "for m in model.modules():\n",
        "    if isinstance(m, nn.Linear):\n",
        "        torch.nn.init.xavier_uniform_(m.weight)\n",
        "        m.bias.data.fill_(0.01)"
      ]
    },
    {
      "cell_type": "code",
      "source": [
        "# formula for torch save.\n",
        "torch.save(model.state_dict(), 'model.pth')"
      ],
      "metadata": {
        "id": "cRK2brJu83pv"
      },
      "execution_count": 4,
      "outputs": []
    },
    {
      "cell_type": "code",
      "source": [
        "# Load the model.\n",
        "model = nn.Sequential(\n",
        "    nn.Linear(x_test.shape[1], 32), # Use the number of input features from x_test\n",
        "    nn.ReLU(),\n",
        "    nn.Dropout(0.2),\n",
        "    nn.Linear(32, 16),\n",
        "    nn.ReLU(),\n",
        "    nn.Linear(16, y_test.shape[1]) # Use the number of output features from y_test\n",
        ")\n",
        "\n",
        "# Load the state dictionary directly into the model\n",
        "model.load_state_dict(torch.load('model.pth', weights_only=True))\n",
        "\n",
        "# Set the model to evaluation mode.\n",
        "model.eval()\n",
        "\n",
        "#Replace NaN Valies in x_test with 0.\n",
        "x_test[torch.isnan(x_test)] = 0\n",
        "\n",
        "# Make predictions and calculate MSE.\n",
        "with torch.no_grad():\n",
        "    predictions = model(x_test)\n",
        "    MSE = loss_fn(predictions, y_test)\n",
        "    display.display(MSE)"
      ],
      "metadata": {
        "colab": {
          "base_uri": "https://localhost:8080/",
          "height": 34
        },
        "id": "WvZZVpDt89O5",
        "outputId": "ed4c57e8-79e5-47fd-c2c7-c0eb40482bb2"
      },
      "execution_count": 42,
      "outputs": [
        {
          "output_type": "display_data",
          "data": {
            "text/plain": [
              "tensor(1.9815)"
            ]
          },
          "metadata": {}
        }
      ]
    },
    {
      "cell_type": "code",
      "source": [
        "# Data Visualization\n",
        "\n",
        "# === 1. Inverse transform predictions and actuals ===\n",
        "y_test_actual = scaler_y.inverse_transform(y_test.cpu().numpy())\n",
        "predictions_actual = scaler_y.inverse_transform(predictions.cpu().numpy())\n",
        "\n",
        "# === 2. Define sentiment based on error ===\n",
        "def get_sentiment(error):\n",
        "    if error < 1:\n",
        "        return \"😌 Confident\"\n",
        "    elif error < 5:\n",
        "        return \"😐 Cautious\"\n",
        "    else:\n",
        "        return \"😲 Surprised\"\n",
        "\n",
        "# === 3. Create the plot ===\n",
        "plt.figure(figsize=(12, 6))\n",
        "sns.lineplot(x=np.arange(len(y_test_actual)), y=y_test_actual.flatten(), label='Actual Close Price')\n",
        "sns.lineplot(x=np.arange(len(predictions_actual)), y=predictions_actual.flatten(), label='Predicted Close Price')\n",
        "plt.title('Actual vs. Predicted Close Price with ML Sentiment')\n",
        "plt.xlabel('Test Set Index')\n",
        "plt.ylabel('Close Price')\n",
        "plt.legend()\n",
        "plt.grid(True)\n",
        "\n",
        "# === 4. Annotate sentiment every 20 points ===\n",
        "for i in range(0, len(y_test_actual), 20):\n",
        "    error = abs(y_test_actual[i] - predictions_actual[i])\n",
        "    sentiment = get_sentiment(error)\n",
        "    plt.text(i, predictions_actual[i], sentiment, fontsize=8, rotation=45)\n",
        "\n",
        "plt.tight_layout()\n",
        "plt.show()"
      ],
      "metadata": {
        "colab": {
          "base_uri": "https://localhost:8080/",
          "height": 574
        },
        "id": "Qi3lrflOHj9q",
        "outputId": "7d06bb6c-c693-4653-9c63-233c3dbe3388"
      },
      "execution_count": 47,
      "outputs": [
        {
          "output_type": "display_data",
          "data": {
            "text/plain": [
              "<Figure size 1200x600 with 1 Axes>"
            ],
            "image/png": "[encoded data removed]"
          },
          "metadata": {}
        }
      ]
    },
    {
      "cell_type": "code",
      "source": [
        "Explanation:\n",
        "\n",
        "This graph compares the actual and predicted close prices over time, with emotional annotations showing where the model felt confident, cautious, or surprised based on its prediction accuracy."
      ],
      "metadata": {
        "id": "8IFf5zeGIFo_"
      },
      "execution_count": null,
      "outputs": []
    }
  ]
}